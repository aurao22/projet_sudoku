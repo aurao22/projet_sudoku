{
 "cells": [
  {
   "cell_type": "code",
   "execution_count": 1,
   "metadata": {},
   "outputs": [],
   "source": [
    "from tensorflow import keras\n",
    "from keras.datasets import mnist\n",
    "from keras.models import Sequential\n",
    "from keras.layers import Dense, Dropout,Flatten,Conv2D, MaxPooling2D\n",
    "from keras.utils import to_categorical\n",
    "from sklearn.model_selection import train_test_split\n",
    "import datetime\n",
    "import numpy as np\n",
    "import os\n",
    "import cv2"
   ]
  },
  {
   "cell_type": "code",
   "execution_count": 9,
   "metadata": {},
   "outputs": [],
   "source": [
    "(X_train, y_train), (X_test, y_test) = mnist.load_data()"
   ]
  },
  {
   "cell_type": "code",
   "execution_count": 10,
   "metadata": {},
   "outputs": [
    {
     "data": {
      "text/plain": [
       "(60000, 28, 28)"
      ]
     },
     "execution_count": 10,
     "metadata": {},
     "output_type": "execute_result"
    }
   ],
   "source": [
    "X_train.shape"
   ]
  },
  {
   "cell_type": "code",
   "execution_count": 13,
   "metadata": {},
   "outputs": [],
   "source": [
    "X = []\n",
    "y = []\n",
    "heightImg = 28\n",
    "widhtImg = 28\n",
    "\n",
    "for i in range(0, 10):\n",
    "    for d in os.listdir(\"../dataset/digits/{}\".format(i)):\n",
    "        t_img = cv2.imread(\"../dataset/digits/{}\".format(i)+\"/\"+d)\n",
    "        t_img = cv2.cvtColor(t_img,cv2.COLOR_BGR2GRAY)\n",
    "        img = cv2.resize(t_img, (heightImg,widhtImg))\n",
    "        X.append(img)\n",
    "        y.append(i)"
   ]
  },
  {
   "cell_type": "code",
   "execution_count": 14,
   "metadata": {},
   "outputs": [],
   "source": [
    "X = np.array(X)\n",
    "y = np.array(y)"
   ]
  },
  {
   "cell_type": "code",
   "execution_count": 15,
   "metadata": {},
   "outputs": [
    {
     "name": "stdout",
     "output_type": "stream",
     "text": [
      "(9539, 28, 28)\n"
     ]
    },
    {
     "data": {
      "text/plain": [
       "(9539,)"
      ]
     },
     "execution_count": 15,
     "metadata": {},
     "output_type": "execute_result"
    }
   ],
   "source": [
    "print(X.shape)\n",
    "y.shape"
   ]
  },
  {
   "cell_type": "code",
   "execution_count": 18,
   "metadata": {},
   "outputs": [],
   "source": [
    "X_train,X_test, y_train, y_test = train_test_split(X,y,test_size = 0.20, random_state= 21)"
   ]
  },
  {
   "cell_type": "code",
   "execution_count": 19,
   "metadata": {},
   "outputs": [
    {
     "data": {
      "text/plain": [
       "(7631, 28, 28)"
      ]
     },
     "execution_count": 19,
     "metadata": {},
     "output_type": "execute_result"
    }
   ],
   "source": [
    "X_train.shape"
   ]
  },
  {
   "cell_type": "code",
   "execution_count": 20,
   "metadata": {},
   "outputs": [
    {
     "data": {
      "text/plain": [
       "array([0, 2, 2, ..., 0, 0, 8])"
      ]
     },
     "execution_count": 20,
     "metadata": {},
     "output_type": "execute_result"
    }
   ],
   "source": [
    "y_test"
   ]
  },
  {
   "cell_type": "code",
   "execution_count": 21,
   "metadata": {},
   "outputs": [],
   "source": [
    "X_train = X_train.reshape((X_train.shape[0], 28, 28, 1)).astype('float32')\n",
    "X_test = X_test.reshape((X_test.shape[0], 28, 28, 1)).astype('float32')\n",
    "# normalize inputs from 0-255 to 0-1\n",
    "X_train = X_train / 255\n",
    "X_test = X_test / 255\n",
    "# one hot encode outputs\n",
    "y_train = to_categorical(y_train)\n",
    "y_test = to_categorical(y_test)\n",
    "num_classes = y_test.shape[1]"
   ]
  },
  {
   "cell_type": "code",
   "execution_count": 22,
   "metadata": {},
   "outputs": [
    {
     "data": {
      "text/plain": [
       "10"
      ]
     },
     "execution_count": 22,
     "metadata": {},
     "output_type": "execute_result"
    }
   ],
   "source": [
    "num_classes"
   ]
  },
  {
   "cell_type": "code",
   "execution_count": 23,
   "metadata": {},
   "outputs": [],
   "source": [
    "def larger_model():\n",
    "    # create model\n",
    "\tmodel = keras.Sequential(\n",
    "    [\n",
    "        Conv2D(30, (5, 5), input_shape=(28, 28, 1), activation='relu'),\n",
    "        MaxPooling2D(),\n",
    "        Conv2D(15, (3, 3), activation='relu'),\n",
    "        MaxPooling2D(),\n",
    "        Dropout(0.2),\n",
    "        Flatten(),\n",
    "        Dense(128, activation='relu'),\n",
    "        Dense(50, activation='relu'),\n",
    "        Dense(num_classes, activation='softmax')\n",
    "    ])\n",
    "    \n",
    "\n",
    "    # Compile model\n",
    "\tmodel.compile(loss='categorical_crossentropy', optimizer='adam', metrics=['accuracy'])\n",
    "\treturn model\n"
   ]
  },
  {
   "cell_type": "code",
   "execution_count": 24,
   "metadata": {},
   "outputs": [],
   "source": [
    "model = larger_model()\n",
    "log_dir = r\"C:/Users/User/WORK/workspace-ia/PROJETS/projet_sudoku/model/logs/fit/\" + datetime.datetime.now().strftime(\"%Y%m%d-%H%M%S\")\n",
    "tensorboard_callback = keras.callbacks.TensorBoard(log_dir=log_dir, histogram_freq=1)"
   ]
  },
  {
   "cell_type": "code",
   "execution_count": 25,
   "metadata": {},
   "outputs": [
    {
     "name": "stdout",
     "output_type": "stream",
     "text": [
      "Epoch 1/10\n",
      "764/764 [==============================] - 9s 7ms/step - loss: 1.2463 - accuracy: 0.5703 - val_loss: 0.4676 - val_accuracy: 0.8679\n",
      "Epoch 2/10\n",
      "764/764 [==============================] - 5s 7ms/step - loss: 0.4407 - accuracy: 0.8662 - val_loss: 0.2594 - val_accuracy: 0.9214\n",
      "Epoch 3/10\n",
      "764/764 [==============================] - 4s 5ms/step - loss: 0.2762 - accuracy: 0.9139 - val_loss: 0.2022 - val_accuracy: 0.9397\n",
      "Epoch 4/10\n",
      "764/764 [==============================] - 4s 5ms/step - loss: 0.1976 - accuracy: 0.9400 - val_loss: 0.1826 - val_accuracy: 0.9486\n",
      "Epoch 5/10\n",
      "764/764 [==============================] - 4s 6ms/step - loss: 0.1509 - accuracy: 0.9554 - val_loss: 0.1521 - val_accuracy: 0.9523\n",
      "Epoch 6/10\n",
      "764/764 [==============================] - 5s 6ms/step - loss: 0.1246 - accuracy: 0.9568 - val_loss: 0.1302 - val_accuracy: 0.9596\n",
      "Epoch 7/10\n",
      "764/764 [==============================] - 5s 6ms/step - loss: 0.1115 - accuracy: 0.9646 - val_loss: 0.1385 - val_accuracy: 0.9523\n",
      "Epoch 8/10\n",
      "764/764 [==============================] - 5s 6ms/step - loss: 0.0926 - accuracy: 0.9706 - val_loss: 0.1285 - val_accuracy: 0.9612\n",
      "Epoch 9/10\n",
      "764/764 [==============================] - 4s 6ms/step - loss: 0.0863 - accuracy: 0.9716 - val_loss: 0.1095 - val_accuracy: 0.9696\n",
      "Epoch 10/10\n",
      "764/764 [==============================] - 4s 6ms/step - loss: 0.0654 - accuracy: 0.9800 - val_loss: 0.1068 - val_accuracy: 0.9706\n",
      "Large CNN Error: 2.94%\n"
     ]
    }
   ],
   "source": [
    "model.fit(X_train, y_train, validation_data=(X_test, y_test), epochs=10, batch_size=10,callbacks=[tensorboard_callback])\n",
    "# Final evaluation of the model\n",
    "scores = model.evaluate(X_test, y_test, verbose=0)\n",
    "\n",
    "print(\"Large CNN Error: %.2f%%\" % (100-scores[1]*100))"
   ]
  },
  {
   "cell_type": "code",
   "execution_count": 26,
   "metadata": {},
   "outputs": [
    {
     "data": {
      "text/plain": [
       "[0.10683777928352356, 0.9706498980522156]"
      ]
     },
     "execution_count": 26,
     "metadata": {},
     "output_type": "execute_result"
    }
   ],
   "source": [
    "# OLD : [0.09560658782720566, 0.9682080745697021]\n",
    "scores"
   ]
  },
  {
   "cell_type": "code",
   "execution_count": 34,
   "metadata": {},
   "outputs": [
    {
     "name": "stdout",
     "output_type": "stream",
     "text": [
      "60/60 [==============================] - 0s 4ms/step\n"
     ]
    },
    {
     "data": {
      "text/plain": [
       "[0,\n",
       " 2,\n",
       " 2,\n",
       " 9,\n",
       " 7,\n",
       " 7,\n",
       " 9,\n",
       " 7,\n",
       " 1,\n",
       " 0,\n",
       " 1,\n",
       " 9,\n",
       " 1,\n",
       " 5,\n",
       " 0,\n",
       " 7,\n",
       " 0,\n",
       " 8,\n",
       " 9,\n",
       " 2,\n",
       " 4,\n",
       " 8,\n",
       " 6,\n",
       " 2,\n",
       " 6,\n",
       " 4,\n",
       " 8,\n",
       " 0,\n",
       " 1,\n",
       " 3,\n",
       " 5,\n",
       " 7,\n",
       " 6,\n",
       " 0,\n",
       " 1,\n",
       " 0,\n",
       " 4,\n",
       " 6,\n",
       " 7,\n",
       " 9,\n",
       " 2,\n",
       " 4,\n",
       " 6,\n",
       " 2,\n",
       " 2,\n",
       " 5,\n",
       " 1,\n",
       " 2,\n",
       " 4,\n",
       " 4,\n",
       " 1,\n",
       " 9,\n",
       " 5,\n",
       " 9,\n",
       " 2,\n",
       " 9,\n",
       " 5,\n",
       " 2,\n",
       " 4,\n",
       " 1,\n",
       " 4,\n",
       " 6,\n",
       " 4,\n",
       " 7,\n",
       " 4,\n",
       " 9,\n",
       " 2,\n",
       " 2,\n",
       " 1,\n",
       " 0,\n",
       " 5,\n",
       " 7,\n",
       " 9,\n",
       " 4,\n",
       " 7,\n",
       " 5,\n",
       " 2,\n",
       " 3,\n",
       " 6,\n",
       " 5,\n",
       " 3,\n",
       " 6,\n",
       " 7,\n",
       " 0,\n",
       " 1,\n",
       " 2,\n",
       " 4,\n",
       " 0,\n",
       " 8,\n",
       " 3,\n",
       " 9,\n",
       " 5,\n",
       " 7,\n",
       " 8,\n",
       " 1,\n",
       " 2,\n",
       " 7,\n",
       " 6,\n",
       " 9,\n",
       " 3,\n",
       " 1,\n",
       " 1,\n",
       " 9,\n",
       " 0,\n",
       " 0,\n",
       " 9,\n",
       " 3,\n",
       " 9,\n",
       " 6,\n",
       " 6,\n",
       " 5,\n",
       " 2,\n",
       " 2,\n",
       " 6,\n",
       " 0,\n",
       " 1,\n",
       " 8,\n",
       " 0,\n",
       " 5,\n",
       " 4,\n",
       " 2,\n",
       " 2,\n",
       " 3,\n",
       " 0,\n",
       " 2,\n",
       " 6,\n",
       " 1,\n",
       " 0,\n",
       " 5,\n",
       " 4,\n",
       " 1,\n",
       " 3,\n",
       " 1,\n",
       " 5,\n",
       " 5,\n",
       " 3,\n",
       " 7,\n",
       " 3,\n",
       " 6,\n",
       " 5,\n",
       " 1,\n",
       " 8,\n",
       " 7,\n",
       " 2,\n",
       " 6,\n",
       " 6,\n",
       " 2,\n",
       " 0,\n",
       " 5,\n",
       " 1,\n",
       " 3,\n",
       " 7,\n",
       " 2,\n",
       " 1,\n",
       " 5,\n",
       " 8,\n",
       " 3,\n",
       " 7,\n",
       " 6,\n",
       " 2,\n",
       " 9,\n",
       " 2,\n",
       " 6,\n",
       " 7,\n",
       " 6,\n",
       " 8,\n",
       " 9,\n",
       " 4,\n",
       " 8,\n",
       " 0,\n",
       " 9,\n",
       " 7,\n",
       " 0,\n",
       " 1,\n",
       " 0,\n",
       " 5,\n",
       " 9,\n",
       " 8,\n",
       " 7,\n",
       " 3,\n",
       " 7,\n",
       " 4,\n",
       " 4,\n",
       " 9,\n",
       " 0,\n",
       " 8,\n",
       " 7,\n",
       " 1,\n",
       " 3,\n",
       " 7,\n",
       " 1,\n",
       " 2,\n",
       " 6,\n",
       " 0,\n",
       " 5,\n",
       " 4,\n",
       " 0,\n",
       " 7,\n",
       " 9,\n",
       " 3,\n",
       " 6,\n",
       " 0,\n",
       " 7,\n",
       " 9,\n",
       " 4,\n",
       " 8,\n",
       " 9,\n",
       " 4,\n",
       " 8,\n",
       " 5,\n",
       " 5,\n",
       " 0,\n",
       " 2,\n",
       " 2,\n",
       " 3,\n",
       " 8,\n",
       " 5,\n",
       " 6,\n",
       " 2,\n",
       " 4,\n",
       " 0,\n",
       " 0,\n",
       " 6,\n",
       " 0,\n",
       " 3,\n",
       " 0,\n",
       " 8,\n",
       " 5,\n",
       " 5,\n",
       " 2,\n",
       " 8,\n",
       " 3,\n",
       " 9,\n",
       " 8,\n",
       " 0,\n",
       " 9,\n",
       " 0,\n",
       " 8,\n",
       " 8,\n",
       " 7,\n",
       " 7,\n",
       " 0,\n",
       " 0,\n",
       " 2,\n",
       " 9,\n",
       " 2,\n",
       " 7,\n",
       " 1,\n",
       " 2,\n",
       " 0,\n",
       " 3,\n",
       " 1,\n",
       " 9,\n",
       " 1,\n",
       " 2,\n",
       " 6,\n",
       " 1,\n",
       " 3,\n",
       " 3,\n",
       " 9,\n",
       " 0,\n",
       " 5,\n",
       " 8,\n",
       " 5,\n",
       " 6,\n",
       " 1,\n",
       " 1,\n",
       " 9,\n",
       " 5,\n",
       " 8,\n",
       " 9,\n",
       " 9,\n",
       " 3,\n",
       " 5,\n",
       " 1,\n",
       " 8,\n",
       " 3,\n",
       " 3,\n",
       " 8,\n",
       " 4,\n",
       " 2,\n",
       " 4,\n",
       " 9,\n",
       " 9,\n",
       " 7,\n",
       " 5,\n",
       " 6,\n",
       " 0,\n",
       " 0,\n",
       " 5,\n",
       " 4,\n",
       " 2,\n",
       " 8,\n",
       " 7,\n",
       " 3,\n",
       " 7,\n",
       " 2,\n",
       " 1,\n",
       " 5,\n",
       " 1,\n",
       " 0,\n",
       " 5,\n",
       " 9,\n",
       " 0,\n",
       " 7,\n",
       " 7,\n",
       " 9,\n",
       " 7,\n",
       " 1,\n",
       " 6,\n",
       " 5,\n",
       " 4,\n",
       " 2,\n",
       " 2,\n",
       " 4,\n",
       " 4,\n",
       " 1,\n",
       " 8,\n",
       " 7,\n",
       " 5,\n",
       " 8,\n",
       " 2,\n",
       " 3,\n",
       " 6,\n",
       " 5,\n",
       " 8,\n",
       " 0,\n",
       " 5,\n",
       " 9,\n",
       " 7,\n",
       " 4,\n",
       " 1,\n",
       " 7,\n",
       " 0,\n",
       " 7,\n",
       " 3,\n",
       " 9,\n",
       " 8,\n",
       " 3,\n",
       " 0,\n",
       " 0,\n",
       " 6,\n",
       " 6,\n",
       " 9,\n",
       " 5,\n",
       " 5,\n",
       " 4,\n",
       " 6,\n",
       " 1,\n",
       " 0,\n",
       " 8,\n",
       " 0,\n",
       " 3,\n",
       " 8,\n",
       " 7,\n",
       " 0,\n",
       " 0,\n",
       " 9,\n",
       " 7,\n",
       " 5,\n",
       " 3,\n",
       " 0,\n",
       " 4,\n",
       " 0,\n",
       " 7,\n",
       " 2,\n",
       " 4,\n",
       " 8,\n",
       " 1,\n",
       " 5,\n",
       " 5,\n",
       " 9,\n",
       " 3,\n",
       " 4,\n",
       " 0,\n",
       " 1,\n",
       " 8,\n",
       " 9,\n",
       " 4,\n",
       " 3,\n",
       " 0,\n",
       " 4,\n",
       " 6,\n",
       " 2,\n",
       " 7,\n",
       " 0,\n",
       " 1,\n",
       " 0,\n",
       " 3,\n",
       " 0,\n",
       " 3,\n",
       " 6,\n",
       " 1,\n",
       " 3,\n",
       " 4,\n",
       " 5,\n",
       " 9,\n",
       " 4,\n",
       " 7,\n",
       " 0,\n",
       " 4,\n",
       " 5,\n",
       " 0,\n",
       " 7,\n",
       " 6,\n",
       " 1,\n",
       " 2,\n",
       " 8,\n",
       " 2,\n",
       " 6,\n",
       " 9,\n",
       " 2,\n",
       " 0,\n",
       " 4,\n",
       " 1,\n",
       " 1,\n",
       " 8,\n",
       " 2,\n",
       " 2,\n",
       " 2,\n",
       " 1,\n",
       " 4,\n",
       " 8,\n",
       " 1,\n",
       " 9,\n",
       " 9,\n",
       " 5,\n",
       " 9,\n",
       " 6,\n",
       " 1,\n",
       " 9,\n",
       " 0,\n",
       " 0,\n",
       " 5,\n",
       " 7,\n",
       " 8,\n",
       " 8,\n",
       " 6,\n",
       " 4,\n",
       " 3,\n",
       " 5,\n",
       " 9,\n",
       " 4,\n",
       " 9,\n",
       " 0,\n",
       " 6,\n",
       " 4,\n",
       " 5,\n",
       " 6,\n",
       " 4,\n",
       " 4,\n",
       " 7,\n",
       " 0,\n",
       " 9,\n",
       " 3,\n",
       " 6,\n",
       " 7,\n",
       " 2,\n",
       " 5,\n",
       " 8,\n",
       " 7,\n",
       " 9,\n",
       " 5,\n",
       " 0,\n",
       " 7,\n",
       " 3,\n",
       " 5,\n",
       " 0,\n",
       " 5,\n",
       " 5,\n",
       " 1,\n",
       " 1,\n",
       " 3,\n",
       " 0,\n",
       " 0,\n",
       " 5,\n",
       " 9,\n",
       " 8,\n",
       " 5,\n",
       " 7,\n",
       " 2,\n",
       " 6,\n",
       " 9,\n",
       " 0,\n",
       " 3,\n",
       " 1,\n",
       " 2,\n",
       " 8,\n",
       " 0,\n",
       " 1,\n",
       " 6,\n",
       " 8,\n",
       " 5,\n",
       " 0,\n",
       " 8,\n",
       " 1,\n",
       " 7,\n",
       " 6,\n",
       " 6,\n",
       " 2,\n",
       " 4,\n",
       " 0,\n",
       " 2,\n",
       " 0,\n",
       " 1,\n",
       " 9,\n",
       " 4,\n",
       " 3,\n",
       " 1,\n",
       " 5,\n",
       " 0,\n",
       " 3,\n",
       " 1,\n",
       " 6,\n",
       " 7,\n",
       " 9,\n",
       " 1,\n",
       " 2,\n",
       " 3,\n",
       " 1,\n",
       " 2,\n",
       " 5,\n",
       " 9,\n",
       " 0,\n",
       " 6,\n",
       " 5,\n",
       " 7,\n",
       " 2,\n",
       " 6,\n",
       " 5,\n",
       " 3,\n",
       " 0,\n",
       " 3,\n",
       " 4,\n",
       " 9,\n",
       " 8,\n",
       " 1,\n",
       " 3,\n",
       " 2,\n",
       " 0,\n",
       " 9,\n",
       " 5,\n",
       " 2,\n",
       " 1,\n",
       " 2,\n",
       " 5,\n",
       " 1,\n",
       " 0,\n",
       " 0,\n",
       " 0,\n",
       " 6,\n",
       " 1,\n",
       " 4,\n",
       " 9,\n",
       " 4,\n",
       " 9,\n",
       " 8,\n",
       " 6,\n",
       " 9,\n",
       " 2,\n",
       " 9,\n",
       " 3,\n",
       " 9,\n",
       " 8,\n",
       " 4,\n",
       " 1,\n",
       " 6,\n",
       " 3,\n",
       " 0,\n",
       " 2,\n",
       " 3,\n",
       " 6,\n",
       " 4,\n",
       " 7,\n",
       " 3,\n",
       " 4,\n",
       " 4,\n",
       " 8,\n",
       " 6,\n",
       " 8,\n",
       " 9,\n",
       " 9,\n",
       " 0,\n",
       " 3,\n",
       " 1,\n",
       " 0,\n",
       " 5,\n",
       " 1,\n",
       " 9,\n",
       " 2,\n",
       " 4,\n",
       " 1,\n",
       " 6,\n",
       " 1,\n",
       " 1,\n",
       " 3,\n",
       " 4,\n",
       " 6,\n",
       " 8,\n",
       " 2,\n",
       " 5,\n",
       " 8,\n",
       " 0,\n",
       " 3,\n",
       " 1,\n",
       " 8,\n",
       " 2,\n",
       " 0,\n",
       " 0,\n",
       " 7,\n",
       " 9,\n",
       " 3,\n",
       " 2,\n",
       " 0,\n",
       " 3,\n",
       " 6,\n",
       " 6,\n",
       " 0,\n",
       " 0,\n",
       " 2,\n",
       " 4,\n",
       " 9,\n",
       " 3,\n",
       " 1,\n",
       " 8,\n",
       " 4,\n",
       " 9,\n",
       " 8,\n",
       " 8,\n",
       " 7,\n",
       " 0,\n",
       " 3,\n",
       " 4,\n",
       " 3,\n",
       " 4,\n",
       " 3,\n",
       " 6,\n",
       " 1,\n",
       " 3,\n",
       " 6,\n",
       " 2,\n",
       " 8,\n",
       " 6,\n",
       " 7,\n",
       " 1,\n",
       " 9,\n",
       " 8,\n",
       " 3,\n",
       " 2,\n",
       " 5,\n",
       " 3,\n",
       " 1,\n",
       " 5,\n",
       " 9,\n",
       " 7,\n",
       " 8,\n",
       " 2,\n",
       " 5,\n",
       " 5,\n",
       " 3,\n",
       " 9,\n",
       " 0,\n",
       " 7,\n",
       " 3,\n",
       " 2,\n",
       " 8,\n",
       " 8,\n",
       " 2,\n",
       " 4,\n",
       " 6,\n",
       " 1,\n",
       " 1,\n",
       " 9,\n",
       " 0,\n",
       " 2,\n",
       " 5,\n",
       " 9,\n",
       " 3,\n",
       " 5,\n",
       " 9,\n",
       " 7,\n",
       " 4,\n",
       " 4,\n",
       " 1,\n",
       " 5,\n",
       " 2,\n",
       " 9,\n",
       " 7,\n",
       " 5,\n",
       " 0,\n",
       " 4,\n",
       " 3,\n",
       " 9,\n",
       " 4,\n",
       " 7,\n",
       " 1,\n",
       " 4,\n",
       " 2,\n",
       " 9,\n",
       " 9,\n",
       " 4,\n",
       " 7,\n",
       " 0,\n",
       " 9,\n",
       " 0,\n",
       " 3,\n",
       " 6,\n",
       " 3,\n",
       " 1,\n",
       " 1,\n",
       " 2,\n",
       " 9,\n",
       " 0,\n",
       " 2,\n",
       " 2,\n",
       " 9,\n",
       " 3,\n",
       " 2,\n",
       " 2,\n",
       " 4,\n",
       " 1,\n",
       " 5,\n",
       " 9,\n",
       " 9,\n",
       " 4,\n",
       " 4,\n",
       " 4,\n",
       " 3,\n",
       " 0,\n",
       " 9,\n",
       " 8,\n",
       " 5,\n",
       " 7,\n",
       " 8,\n",
       " 7,\n",
       " 2,\n",
       " 1,\n",
       " 1,\n",
       " 5,\n",
       " 7,\n",
       " 2,\n",
       " 3,\n",
       " 2,\n",
       " 6,\n",
       " 1,\n",
       " 7,\n",
       " 6,\n",
       " 1,\n",
       " 1,\n",
       " 9,\n",
       " 9,\n",
       " 8,\n",
       " 0,\n",
       " 9,\n",
       " 8,\n",
       " 3,\n",
       " 7,\n",
       " 0,\n",
       " 0,\n",
       " 1,\n",
       " 0,\n",
       " 1,\n",
       " 3,\n",
       " 0,\n",
       " 0,\n",
       " 2,\n",
       " 8,\n",
       " 2,\n",
       " 1,\n",
       " 7,\n",
       " 6,\n",
       " 0,\n",
       " 3,\n",
       " 9,\n",
       " 8,\n",
       " 8,\n",
       " 4,\n",
       " 8,\n",
       " 7,\n",
       " 0,\n",
       " 9,\n",
       " 3,\n",
       " 1,\n",
       " 9,\n",
       " 2,\n",
       " 2,\n",
       " 2,\n",
       " 4,\n",
       " 4,\n",
       " 3,\n",
       " 1,\n",
       " 1,\n",
       " 4,\n",
       " 4,\n",
       " 6,\n",
       " 6,\n",
       " 1,\n",
       " 9,\n",
       " 7,\n",
       " 0,\n",
       " 3,\n",
       " 1,\n",
       " 7,\n",
       " 3,\n",
       " 0,\n",
       " 3,\n",
       " 4,\n",
       " 4,\n",
       " 5,\n",
       " 4,\n",
       " 9,\n",
       " 7,\n",
       " 7,\n",
       " 7,\n",
       " 1,\n",
       " 4,\n",
       " 3,\n",
       " 2,\n",
       " 5,\n",
       " 2,\n",
       " 7,\n",
       " 4,\n",
       " 3,\n",
       " 6,\n",
       " 0,\n",
       " 9,\n",
       " 4,\n",
       " 7,\n",
       " 6,\n",
       " 4,\n",
       " 0,\n",
       " 5,\n",
       " 2,\n",
       " 0,\n",
       " 0,\n",
       " 2,\n",
       " 7,\n",
       " 4,\n",
       " 7,\n",
       " 6,\n",
       " 6,\n",
       " 6,\n",
       " 2,\n",
       " 0,\n",
       " 3,\n",
       " 2,\n",
       " 2,\n",
       " 0,\n",
       " 5,\n",
       " 5,\n",
       " 4,\n",
       " 7,\n",
       " 8,\n",
       " 8,\n",
       " 5,\n",
       " 0,\n",
       " 8,\n",
       " 0,\n",
       " 2,\n",
       " 7,\n",
       " 0,\n",
       " 3,\n",
       " 9,\n",
       " 4,\n",
       " 2,\n",
       " 6,\n",
       " 6,\n",
       " 6,\n",
       " 7,\n",
       " 7,\n",
       " 6,\n",
       " 8,\n",
       " 0,\n",
       " 2,\n",
       " 3,\n",
       " 0,\n",
       " 9,\n",
       " 1,\n",
       " 3,\n",
       " 4,\n",
       " 7,\n",
       " 2,\n",
       " 7,\n",
       " 4,\n",
       " 3,\n",
       " 4,\n",
       " 7,\n",
       " 8,\n",
       " 3,\n",
       " 7,\n",
       " 6,\n",
       " 1,\n",
       " 7,\n",
       " 1,\n",
       " 4,\n",
       " 9,\n",
       " 3,\n",
       " 9,\n",
       " 2,\n",
       " 1,\n",
       " 4,\n",
       " 5,\n",
       " 0,\n",
       " 7,\n",
       " 8,\n",
       " 5,\n",
       " 7,\n",
       " 8,\n",
       " 2,\n",
       " 9,\n",
       " 0,\n",
       " 2,\n",
       " 6,\n",
       " 9,\n",
       " 3,\n",
       " 9,\n",
       " 8,\n",
       " 2,\n",
       " 9,\n",
       " 0,\n",
       " 8,\n",
       " 2,\n",
       " 0,\n",
       " 0,\n",
       " 7,\n",
       " 0,\n",
       " 0,\n",
       " 1,\n",
       " 6,\n",
       " 8,\n",
       " 3,\n",
       " 7,\n",
       " 7,\n",
       " 2,\n",
       " 1,\n",
       " 3,\n",
       " 2,\n",
       " 3,\n",
       " 2,\n",
       " 2,\n",
       " 0,\n",
       " 0,\n",
       " 9,\n",
       " 5,\n",
       " 3,\n",
       " 6,\n",
       " 1,\n",
       " 4,\n",
       " 1,\n",
       " 7,\n",
       " 2,\n",
       " 0,\n",
       " 1,\n",
       " 5,\n",
       " 3,\n",
       " 9,\n",
       " 4,\n",
       " 9,\n",
       " 6,\n",
       " 0,\n",
       " 6,\n",
       " 7,\n",
       " 9,\n",
       " 8,\n",
       " 0,\n",
       " 4,\n",
       " 5,\n",
       " 6,\n",
       " 5,\n",
       " 7,\n",
       " 8,\n",
       " 6,\n",
       " 0,\n",
       " 7,\n",
       " 9,\n",
       " 3,\n",
       " 0,\n",
       " 0,\n",
       " 2,\n",
       " 7,\n",
       " 6,\n",
       " 1,\n",
       " 6,\n",
       " 5,\n",
       " 6,\n",
       " 1,\n",
       " 7,\n",
       " 0,\n",
       " 5,\n",
       " 2,\n",
       " 9,\n",
       " 1,\n",
       " 6,\n",
       " 4,\n",
       " 7,\n",
       " 6,\n",
       " 0,\n",
       " 2,\n",
       " 6,\n",
       " 4,\n",
       " ...]"
      ]
     },
     "execution_count": 34,
     "metadata": {},
     "output_type": "execute_result"
    }
   ],
   "source": [
    "pred = model.predict(X_test,verbose = 1)\n",
    "pred_classes = []\n",
    "\n",
    "for p in pred:\n",
    "    classIndex = np.argmax(p)\n",
    "    probabilityValue = np.amax(p)\n",
    "    \n",
    "    if probabilityValue > 0.65:\n",
    "        pred_classes.append(classIndex)\n",
    "    else:\n",
    "        pred_classes.append(0)\n",
    "pred_classes"
   ]
  },
  {
   "cell_type": "code",
   "execution_count": 36,
   "metadata": {},
   "outputs": [
    {
     "data": {
      "image/png": "[encoded data removed]",
      "text/plain": [
       "<Figure size 432x288 with 1 Axes>"
      ]
     },
     "metadata": {
      "needs_background": "light"
     },
     "output_type": "display_data"
    },
    {
     "data": {
      "image/png": "[encoded data removed]",
      "text/plain": [
       "<Figure size 432x288 with 1 Axes>"
      ]
     },
     "metadata": {
      "needs_background": "light"
     },
     "output_type": "display_data"
    },
    {
     "data": {
      "image/png": "[encoded data removed]",
      "text/plain": [
       "<Figure size 432x288 with 1 Axes>"
      ]
     },
     "metadata": {
      "needs_background": "light"
     },
     "output_type": "display_data"
    },
    {
     "data": {
      "image/png": "[encoded data removed]",
      "text/plain": [
       "<Figure size 432x288 with 1 Axes>"
      ]
     },
     "metadata": {
      "needs_background": "light"
     },
     "output_type": "display_data"
    },
    {
     "data": {
      "image/png": "[encoded data removed]",
      "text/plain": [
       "<Figure size 432x288 with 1 Axes>"
      ]
     },
     "metadata": {
      "needs_background": "light"
     },
     "output_type": "display_data"
    },
    {
     "data": {
      "image/png": "[encoded data removed]",
      "text/plain": [
       "<Figure size 432x288 with 1 Axes>"
      ]
     },
     "metadata": {
      "needs_background": "light"
     },
     "output_type": "display_data"
    },
    {
     "data": {
      "image/png": "[encoded data removed]",
      "text/plain": [
       "<Figure size 432x288 with 1 Axes>"
      ]
     },
     "metadata": {
      "needs_background": "light"
     },
     "output_type": "display_data"
    },
    {
     "data": {
      "image/png": "[encoded data removed]",
      "text/plain": [
       "<Figure size 432x288 with 1 Axes>"
      ]
     },
     "metadata": {
      "needs_background": "light"
     },
     "output_type": "display_data"
    },
    {
     "data": {
      "image/png": "[encoded data removed]",
      "text/plain": [
       "<Figure size 432x288 with 1 Axes>"
      ]
     },
     "metadata": {
      "needs_background": "light"
     },
     "output_type": "display_data"
    },
    {
     "data": {
      "image/png": "[encoded data removed]",
      "text/plain": [
       "<Figure size 432x288 with 1 Axes>"
      ]
     },
     "metadata": {
      "needs_background": "light"
     },
     "output_type": "display_data"
    },
    {
     "data": {
      "image/png": "[encoded data removed]",
      "text/plain": [
       "<Figure size 432x288 with 1 Axes>"
      ]
     },
     "metadata": {
      "needs_background": "light"
     },
     "output_type": "display_data"
    },
    {
     "data": {
      "image/png": "[encoded data removed]",
      "text/plain": [
       "<Figure size 432x288 with 1 Axes>"
      ]
     },
     "metadata": {
      "needs_background": "light"
     },
     "output_type": "display_data"
    },
    {
     "data": {
      "image/png": "[encoded data removed]",
      "text/plain": [
       "<Figure size 432x288 with 1 Axes>"
      ]
     },
     "metadata": {
      "needs_background": "light"
     },
     "output_type": "display_data"
    },
    {
     "data": {
      "image/png": "[encoded data removed]",
      "text/plain": [
       "<Figure size 432x288 with 1 Axes>"
      ]
     },
     "metadata": {
      "needs_background": "light"
     },
     "output_type": "display_data"
    },
    {
     "data": {
      "image/png": "[encoded data removed]",
      "text/plain": [
       "<Figure size 432x288 with 1 Axes>"
      ]
     },
     "metadata": {
      "needs_background": "light"
     },
     "output_type": "display_data"
    },
    {
     "data": {
      "image/png": "[encoded data removed]",
      "text/plain": [
       "<Figure size 432x288 with 1 Axes>"
      ]
     },
     "metadata": {
      "needs_background": "light"
     },
     "output_type": "display_data"
    },
    {
     "data": {
      "image/png": "[encoded data removed]",
      "text/plain": [
       "<Figure size 432x288 with 1 Axes>"
      ]
     },
     "metadata": {
      "needs_background": "light"
     },
     "output_type": "display_data"
    },
    {
     "data": {
      "image/png": "[encoded data removed]",
      "text/plain": [
       "<Figure size 432x288 with 1 Axes>"
      ]
     },
     "metadata": {
      "needs_background": "light"
     },
     "output_type": "display_data"
    },
    {
     "data": {
      "image/png": "[encoded data removed]",
      "text/plain": [
       "<Figure size 432x288 with 1 Axes>"
      ]
     },
     "metadata": {
      "needs_background": "light"
     },
     "output_type": "display_data"
    },
    {
     "data": {
      "image/png": "[encoded data removed]",
      "text/plain": [
       "<Figure size 432x288 with 1 Axes>"
      ]
     },
     "metadata": {
      "needs_background": "light"
     },
     "output_type": "display_data"
    }
   ],
   "source": [
    "import matplotlib.pyplot as plt\n",
    "\n",
    "for i in range(20):\n",
    "    \n",
    "    plt.imshow(X_test[i])\n",
    "    plt.title(pred_classes[i])\n",
    "    plt.show()"
   ]
  },
  {
   "cell_type": "code",
   "execution_count": 37,
   "metadata": {},
   "outputs": [
    {
     "data": {
      "text/html": [
       "\n",
       "      <iframe id=\"tensorboard-frame-670e9cfc9317571\" width=\"100%\" height=\"800\" frameborder=\"0\">\n",
       "      </iframe>\n",
       "      <script>\n",
       "        (function() {\n",
       "          const frame = document.getElementById(\"tensorboard-frame-670e9cfc9317571\");\n",
       "          const url = new URL(\"/\", window.location);\n",
       "          const port = 6006;\n",
       "          if (port) {\n",
       "            url.port = port;\n",
       "          }\n",
       "          frame.src = url;\n",
       "        })();\n",
       "      </script>\n",
       "    "
      ],
      "text/plain": [
       "<IPython.core.display.HTML object>"
      ]
     },
     "metadata": {},
     "output_type": "display_data"
    }
   ],
   "source": [
    "%load_ext tensorboard\n",
    "%tensorboard --logdir logs/fit"
   ]
  },
  {
   "cell_type": "code",
   "execution_count": 39,
   "metadata": {},
   "outputs": [
    {
     "name": "stderr",
     "output_type": "stream",
     "text": [
      "WARNING:absl:Found untraced functions such as _jit_compiled_convolution_op, _jit_compiled_convolution_op while saving (showing 2 of 2). These functions will not be directly callable after loading.\n"
     ]
    },
    {
     "name": "stdout",
     "output_type": "stream",
     "text": [
      "INFO:tensorflow:Assets written to: C:\\Users\\User\\WORK\\workspace-ia\\PROJETS\\projet_sudoku\\model\\aurao\\assets\n"
     ]
    },
    {
     "name": "stderr",
     "output_type": "stream",
     "text": [
      "INFO:tensorflow:Assets written to: C:\\Users\\User\\WORK\\workspace-ia\\PROJETS\\projet_sudoku\\model\\aurao\\assets\n"
     ]
    }
   ],
   "source": [
    "model.save(r\"C:\\Users\\User\\WORK\\workspace-ia\\PROJETS\\projet_sudoku\\model\\aurao\")"
   ]
  },
  {
   "cell_type": "code",
   "execution_count": null,
   "metadata": {},
   "outputs": [],
   "source": []
  }
 ],
 "metadata": {
  "kernelspec": {
   "display_name": "Python 3.9.10 ('tensor_flow')",
   "language": "python",
   "name": "python3"
  },
  "language_info": {
   "codemirror_mode": {
    "name": "ipython",
    "version": 3
   },
   "file_extension": ".py",
   "mimetype": "text/x-python",
   "name": "python",
   "nbconvert_exporter": "python",
   "pygments_lexer": "ipython3",
   "version": "3.9.10"
  },
  "vscode": {
   "interpreter": {
    "hash": "aa1a338178f9f930bee8bd77ef02489fdd5066fc93282fb64038484aff075692"
   }
  }
 },
 "nbformat": 4,
 "nbformat_minor": 4
}
